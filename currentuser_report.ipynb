{
  "nbformat": 4,
  "nbformat_minor": 0,
  "metadata": {
    "colab": {
      "name": "currentuser-report.ipynb",
      "provenance": [],
      "collapsed_sections": []
    },
    "kernelspec": {
      "name": "python3",
      "display_name": "Python 3"
    }
  },
  "cells": [
    {
      "cell_type": "markdown",
      "metadata": {
        "id": "s1qS8DDc-bkN",
        "colab_type": "text"
      },
      "source": [
        "<h2><center><b>Report for curent users of the machines</b></center></h2>"
      ]
    },
    {
      "cell_type": "markdown",
      "metadata": {
        "id": "PIX47X7_N_ys",
        "colab_type": "text"
      },
      "source": [
        "Events will be fed as input\n",
        "\n",
        "Machines will generate a dictionary of set of machines with current users"
      ]
    },
    {
      "cell_type": "code",
      "metadata": {
        "id": "BqGXYKPXjb-P",
        "colab_type": "code",
        "colab": {}
      },
      "source": [
        "#defining a helper class to sort the event date\n",
        "def get_event_date(event):\n",
        "  return event.date\n",
        "\n",
        "def current_user(events):\n",
        "  events.sort(key=get_event_date)\n",
        "  machines = {}\n",
        "  for event in events:\n",
        "    if event.machine not in machines:\n",
        "      machines[event.machine] = set()\n",
        "    if event.type == 'login':\n",
        "      machines[event.machine].add(event.user)\n",
        "    elif event.type == 'logout' and event.user in machines[event.machine]:\n",
        "        machines[event.machine].remove(event.user)\n",
        "  return machines"
      ],
      "execution_count": 1,
      "outputs": []
    },
    {
      "cell_type": "code",
      "metadata": {
        "id": "2vEpDcXtxzjF",
        "colab_type": "code",
        "colab": {}
      },
      "source": [
        "#generate report from the derived machines dict\n",
        "def generate_report(machines):\n",
        "  for machine, user in machines.items():\n",
        "    if len(user)>0:\n",
        "      user_list = ', '.join(user)\n",
        "      print('{}: {}'.format(machine, user_list))"
      ],
      "execution_count": 2,
      "outputs": []
    },
    {
      "cell_type": "code",
      "metadata": {
        "id": "llO8ix3qTQ0h",
        "colab_type": "code",
        "colab": {}
      },
      "source": [
        "#to check whether this code works we create a class Event \n",
        "class Event:\n",
        "  def __init__(self, date, type, machine, user):\n",
        "    self.date = date\n",
        "    self.user = user\n",
        "    self.machine = machine\n",
        "    self.type = type"
      ],
      "execution_count": 3,
      "outputs": []
    },
    {
      "cell_type": "code",
      "metadata": {
        "id": "G_kPEg5tVy6a",
        "colab_type": "code",
        "colab": {}
      },
      "source": [
        "#entering custom input records of events\n",
        "events = [\n",
        "    Event('2020-01-21 12:45:56', 'login', 'myworkstation.local', 'jordan'),\n",
        "    Event('2020-01-22 15:53:42', 'logout', 'webserver.local', 'jordan'),\n",
        "    Event('2020-01-21 18:53:21', 'login', 'webserver.local', 'lane'),\n",
        "    Event('2020-01-22 10:25:34', 'logout', 'myworkstation.local', 'jordan'),\n",
        "    Event('2020-01-21 08:20:01', 'login', 'webserver.local', 'jordan'),\n",
        "    Event('2020-01-23 11:24:35', 'logout', 'mailserver.local', 'chris'),\n",
        "]"
      ],
      "execution_count": 4,
      "outputs": []
    },
    {
      "cell_type": "code",
      "metadata": {
        "id": "g9_Sxes8YpPd",
        "colab_type": "code",
        "colab": {
          "base_uri": "https://localhost:8080/",
          "height": 34
        },
        "outputId": "1dd21af8-8dd2-47a2-f48e-d4f0517024f7"
      },
      "source": [
        "users = current_user(events)\n",
        "print(users)"
      ],
      "execution_count": 5,
      "outputs": [
        {
          "output_type": "stream",
          "text": [
            "{'webserver.local': {'lane'}, 'myworkstation.local': set(), 'mailserver.local': set()}\n"
          ],
          "name": "stdout"
        }
      ]
    },
    {
      "cell_type": "code",
      "metadata": {
        "id": "sPEq9dJYZDCz",
        "colab_type": "code",
        "colab": {
          "base_uri": "https://localhost:8080/",
          "height": 34
        },
        "outputId": "f1b9c37f-9b9d-4d77-eb81-ff8bef46998a"
      },
      "source": [
        "generate_report(users)"
      ],
      "execution_count": 6,
      "outputs": [
        {
          "output_type": "stream",
          "text": [
            "webserver.local: lane\n"
          ],
          "name": "stdout"
        }
      ]
    }
  ]
}