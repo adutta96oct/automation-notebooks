{
  "nbformat": 4,
  "nbformat_minor": 0,
  "metadata": {
    "colab": {
      "name": "wordcloud.ipynb",
      "provenance": [],
      "collapsed_sections": [],
      "authorship_tag": "ABX9TyPQlwYgTlZTuAqwyVREx9ei",
      "include_colab_link": true
    },
    "kernelspec": {
      "name": "python3",
      "display_name": "Python 3"
    }
  },
  "cells": [
    {
      "cell_type": "markdown",
      "metadata": {
        "id": "view-in-github",
        "colab_type": "text"
      },
      "source": [
        "<a href=\"https://colab.research.google.com/github/adutta96oct/automation-notebooks/blob/master/wordcloud.ipynb\" target=\"_parent\"><img src=\"https://colab.research.google.com/assets/colab-badge.svg\" alt=\"Open In Colab\"/></a>"
      ]
    },
    {
      "cell_type": "markdown",
      "metadata": {
        "id": "j7jRS6wcPeme",
        "colab_type": "text"
      },
      "source": [
        "# Word Cloud"
      ]
    },
    {
      "cell_type": "markdown",
      "metadata": {
        "id": "KZBpb5AoPtRN",
        "colab_type": "text"
      },
      "source": [
        "Create a \"word cloud\" from a text by writing a script.  This script needs to process the text, remove punctuation, ignore case and words that do not contain all alphabets, count the frequencies, and ignore uninteresting or irrelevant words.  A dictionary is the output of the `calculate_frequencies` function.  The `wordcloud` module will then generate the image from your dictionary."
      ]
    },
    {
      "cell_type": "code",
      "metadata": {
        "id": "w7_6Rsn_P_FO",
        "colab_type": "code",
        "colab": {}
      },
      "source": [
        "# Here are all the installs and imports you will need for your word cloud script and uploader widget\n",
        "\n",
        "!pip install wordcloud\n",
        "import wordcloud\n",
        "import numpy as np\n",
        "from matplotlib import pyplot as plt\n",
        "from IPython.display import display\n",
        "import io\n",
        "import sys"
      ],
      "execution_count": null,
      "outputs": []
    },
    {
      "cell_type": "code",
      "metadata": {
        "id": "1EB-OdHxQGqz",
        "colab_type": "code",
        "colab": {}
      },
      "source": [
        "file_contents = open('filepath', 'r').read()"
      ],
      "execution_count": null,
      "outputs": []
    },
    {
      "cell_type": "markdown",
      "metadata": {
        "id": "bRUbdwMlQPJA",
        "colab_type": "text"
      },
      "source": [
        "Write a function in the cell below that iterates through the words in *file_contents*, removes punctuation, and counts the frequency of each word.  Oh, and be sure to make it ignore word case, words that do not contain all alphabets and boring words like \"and\" or \"the\".  Then use it in the `generate_from_frequencies` function to generate your very own word cloud!\n",
        "<br><br>\n",
        "\n",
        "Try storing the results of your iteration in a dictionary before passing them into wordcloud via the `generate_from_frequencies` function."
      ]
    },
    {
      "cell_type": "code",
      "metadata": {
        "id": "Wl3TgjU4QSfF",
        "colab_type": "code",
        "colab": {}
      },
      "source": [
        "def calculate_frequencies(file_contents):\n",
        "    # Here is a list of punctuations and uninteresting words you can use to process your text\n",
        "    punctuations = '''!()-[]{};:'\"\\,<>./?@#$%^&*_~'''\n",
        "    uninteresting_words = [\"the\", \"a\", \"to\", \"if\", \"is\", \"it\", \"of\", \"and\", \"or\", \"an\", \"as\", \"i\", \"me\", \"my\", \\\n",
        "    \"we\", \"our\", \"ours\", \"you\", \"your\", \"yours\", \"he\", \"she\", \"him\", \"his\", \"her\", \"hers\", \"its\", \"they\", \"them\", \\\n",
        "    \"their\", \"what\", \"which\", \"who\", \"whom\", \"this\", \"that\", \"am\", \"are\", \"was\", \"were\", \"be\", \"been\", \"being\", \\\n",
        "    \"have\", \"has\", \"had\", \"do\", \"does\", \"did\", \"but\", \"at\", \"by\", \"with\", \"from\", \"here\", \"when\", \"where\", \"how\", \\\n",
        "    \"all\", \"any\", \"both\", \"each\", \"few\", \"more\", \"some\", \"such\", \"no\", \"nor\", \"too\", \"very\", \"can\", \"will\", \"just\", \\\n",
        "    \"in\", \"on\", \"for\", \"not\", \"so\",\"about\", \"up\", \"out\", \"after\", \"before\", \"because\"]\n",
        "    \n",
        "    fc = file_contents.lower()\n",
        "    fc_clean = str()\n",
        "    for char in fc:\n",
        "        if char not in punctuations:\n",
        "          fc_clean += char\n",
        "    fc_clean = fc_clean.replace('\\n',' ')\n",
        "    fc_split = fc_clean.split()\n",
        "    fc_list = list()\n",
        "    for word in fc_split:\n",
        "      if word not in uninteresting_words:\n",
        "        fc_list.append(word)\n",
        "    fc_freq = dict()\n",
        "    for word in fc_list:\n",
        "      fc_freq[word] = fc_list.count(word)\n",
        "    #wordcloud\n",
        "    cloud = wordcloud.WordCloud()\n",
        "    cloud.generate_from_frequencies(fc_freq)\n",
        "    return cloud.to_array()"
      ],
      "execution_count": null,
      "outputs": []
    },
    {
      "cell_type": "code",
      "metadata": {
        "id": "GNWUw421QWp0",
        "colab_type": "code",
        "colab": {}
      },
      "source": [
        "# Display your wordcloud image\n",
        "\n",
        "myimage = calculate_frequencies(file_contents)\n",
        "plt.imshow(myimage, interpolation = 'nearest')\n",
        "plt.axis('off')\n",
        "plt.show()"
      ],
      "execution_count": null,
      "outputs": []
    }
  ]
}